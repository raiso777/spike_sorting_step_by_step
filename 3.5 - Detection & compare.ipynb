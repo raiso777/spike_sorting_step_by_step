{
 "cells": [
  {
   "cell_type": "markdown",
   "metadata": {},
   "source": [
    "# Detection & Compare\n",
    "\n",
    "對比別人已經做好的 spike train\n",
    "\n",
    "reference https://zenodo.org/record/1413593#.YBjhgS3RZhG\n"
   ]
  },
  {
   "cell_type": "code",
   "execution_count": 1,
   "metadata": {},
   "outputs": [],
   "source": [
    "import os\n",
    "import h5py\n",
    "import numpy as np\n",
    "import matplotlib.pyplot as plt\n",
    "from scipy import signal"
   ]
  },
  {
   "cell_type": "code",
   "execution_count": 2,
   "metadata": {},
   "outputs": [],
   "source": [
    "# Read data\n",
    "fullpath = os.path.join('/','home','jovyan','indy','The_nwb_Raw_Dataset','indy_20170124_01.nwb')\n",
    "f = h5py.File(fullpath, 'r')\n",
    "data = f['/acquisition/timeseries/broadband/data']\n",
    "conversion = data.attrs['conversion']\n",
    "timestamps = f['/acquisition/timeseries/broadband/timestamps']"
   ]
  },
  {
   "cell_type": "code",
   "execution_count": 3,
   "metadata": {},
   "outputs": [],
   "source": [
    "fs = 24414.0625 \n",
    "dur = 1\n",
    "start = 100\n",
    "channel = 96\n",
    "signal_length = (int) (dur * fs)\n",
    "\n",
    "# index_of_begin and index_of_end\n",
    "ib = (int) (start * fs)\n",
    "ie = ib + signal_length\n",
    "ch1 = data[ib:ie].T[1-1]\n",
    "t = timestamps[ib:ie]\n",
    "# time_of_begin and time_of_end\n",
    "tb = min(t)\n",
    "te = max(t)\n"
   ]
  },
  {
   "cell_type": "code",
   "execution_count": 4,
   "metadata": {},
   "outputs": [],
   "source": [
    "#https://github.com/guillaume-chevalier/filtering-stft-and-laplace-transform\n",
    "def butter_lowpass(cutoff, nyq_freq, order=4):\n",
    "    normal_cutoff = float(cutoff) / nyq_freq\n",
    "    b, a = signal.butter(order, normal_cutoff, btype='lowpass')\n",
    "    return b, a\n",
    "\n",
    "def butter_lowpass_filter(data, cutoff_freq, nyq_freq, order=4):\n",
    "    b, a = butter_lowpass(cutoff_freq, nyq_freq, order=order)\n",
    "    y = signal.filtfilt(b, a, data)\n",
    "    return y\n",
    "\n",
    "def butter_highpass(cutoff, nyq_freq, order=4):\n",
    "    normal_cutoff = float(cutoff) / nyq_freq\n",
    "    b, a = signal.butter(order, normal_cutoff, btype='highpass')\n",
    "    return b, a\n",
    "\n",
    "def butter_highpass_filter(data, cutoff_freq, nyq_freq, order=4):\n",
    "    b, a = butter_highpass(cutoff_freq, nyq_freq, order=order)\n",
    "    y = signal.filtfilt(b, a, data)\n",
    "    return y\n",
    "\n",
    "def find_spike(data, thr, dist):\n",
    "    li = list()\n",
    "    last = -dist\n",
    "    for i in range(len(data)-2):\n",
    "        if data[i+1] < thr:\n",
    "            continue\n",
    "        if data[i] < data[i+1] and data[i+1] > data[i-1] and i - last >= dist:\n",
    "            li.append(i+1)\n",
    "            last = i\n",
    "    return np.array(li)"
   ]
  },
  {
   "cell_type": "code",
   "execution_count": 5,
   "metadata": {},
   "outputs": [],
   "source": [
    "ch1 = np.array(ch1)\n",
    "t = np.array(t)\n",
    "cutoff_lp = 5000.0\n",
    "cutoff_hp = 500.0\n",
    "temp = butter_lowpass_filter(ch1, cutoff_lp, fs/2)\n",
    "ch1_after = butter_highpass_filter(temp, cutoff_hp, fs/2 )\n"
   ]
  },
  {
   "cell_type": "code",
   "execution_count": 6,
   "metadata": {},
   "outputs": [
    {
     "name": "stdout",
     "output_type": "stream",
     "text": [
      "112.991614331\n",
      "27\n",
      "[ 1498.05351278  1498.10004287  1498.16393982  1498.68031732  1498.72705221\n",
      "  1498.73970872  1498.74306741  1498.74691761  1498.75642023  1498.76092579\n",
      "  1498.76944538  1498.77927568  1498.78587017  1498.8348988   1498.85406789\n",
      "  1498.87376945  1498.88474661  1498.89617434  1498.90985484  1498.91657221\n",
      "  1498.92910585  1498.9372568   1498.94450665  1498.95359968  1498.97027023\n",
      "  1498.97936326  1498.99500982]\n"
     ]
    }
   ],
   "source": [
    "Thr = 4 * np.std(ch1_after)\n",
    "print(Thr)\n",
    "#ch1_spike = np.sort(np.append(t[ch1_after > Thr], t[ch1_after < -Thr]))\n",
    "ch1_spike = np.sort(t[find_spike(-ch1_after, Thr, (int)(0.003*fs))])\n",
    "print(len(ch1_spike))\n",
    "print(ch1_spike)\n"
   ]
  },
  {
   "cell_type": "code",
   "execution_count": 7,
   "metadata": {},
   "outputs": [
    {
     "name": "stdout",
     "output_type": "stream",
     "text": [
      "19\n",
      "[ 1498.0196392   1498.04552566  1498.10045246  1498.1640627   1498.68068596\n",
      "  1498.7263559   1498.74011832  1498.74728624  1498.75674791  1498.78623881\n",
      "  1498.83530839  1498.85443652  1498.88515621  1498.89658394  1498.9120257\n",
      "  1498.92947448  1498.95400928  1498.97977285  1498.99541942]\n"
     ]
    }
   ],
   "source": [
    "fullpath = os.path.join('/','home','jovyan','indy','Sorted_Spike_Dataset','indy_20170124_01.mat')\n",
    "f = h5py.File(fullpath, 'r')\n",
    "temp = np.array([])\n",
    "for i in range(len(f['spikes'])):\n",
    "    temp = np.append(temp, np.array(f[f['spikes'][i][0]]))\n",
    "temp = np.sort(temp)\n",
    "temp = temp[temp > tb]\n",
    "temp = temp[temp < te]\n",
    "ch1_spike_markin = temp\n",
    "print(len(ch1_spike_markin))\n",
    "print(ch1_spike_markin)"
   ]
  },
  {
   "cell_type": "code",
   "execution_count": 8,
   "metadata": {},
   "outputs": [
    {
     "data": {
      "image/png": "[encoded data removed]",
      "text/plain": [
       "<Figure size 1440x576 with 1 Axes>"
      ]
     },
     "metadata": {
      "needs_background": "light"
     },
     "output_type": "display_data"
    }
   ],
   "source": [
    "plt.figure(figsize=(20, 8))\n",
    "\n",
    "for it in ch1_spike:\n",
    "    plt.plot([it, it], [0, 100], 'r')\n",
    "plt.plot([it], [0], 'r', label='ch1_spike_raiso777')\n",
    "for it in ch1_spike_markin:\n",
    "    plt.plot([it, it], [0, -100], 'b')  \n",
    "plt.plot([it], [0], 'b', label='ch1_spike_markin') \n",
    "plt.legend(fontsize=20)\n",
    "plt.show()"
   ]
  },
  {
   "cell_type": "code",
   "execution_count": null,
   "metadata": {},
   "outputs": [],
   "source": []
  }
 ],
 "metadata": {
  "kernelspec": {
   "display_name": "Python 3",
   "language": "python",
   "name": "python3"
  },
  "language_info": {
   "codemirror_mode": {
    "name": "ipython",
    "version": 3
   },
   "file_extension": ".py",
   "mimetype": "text/x-python",
   "name": "python",
   "nbconvert_exporter": "python",
   "pygments_lexer": "ipython3",
   "version": "3.6.8"
  }
 },
 "nbformat": 4,
 "nbformat_minor": 2
}
